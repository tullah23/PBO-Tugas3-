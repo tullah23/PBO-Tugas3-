{
  "nbformat": 4,
  "nbformat_minor": 0,
  "metadata": {
    "colab": {
      "private_outputs": true,
      "provenance": [],
      "toc_visible": true,
      "authorship_tag": "ABX9TyPHeg6Vru+sv2ki68mw4MEJ",
      "include_colab_link": true
    },
    "kernelspec": {
      "name": "python3",
      "display_name": "Python 3"
    },
    "language_info": {
      "name": "python"
    }
  },
  "cells": [
    {
      "cell_type": "markdown",
      "metadata": {
        "id": "view-in-github",
        "colab_type": "text"
      },
      "source": [
        "<a href=\"https://colab.research.google.com/github/tullah23/PBO-Tugas3-/blob/main/TUGAS3.ipynb\" target=\"_parent\"><img src=\"https://colab.research.google.com/assets/colab-badge.svg\" alt=\"Open In Colab\"/></a>"
      ]
    },
    {
      "cell_type": "code",
      "execution_count": null,
      "metadata": {
        "id": "_ANXKpLhAGE9"
      },
      "outputs": [],
      "source": [
        "# Class Definition\n",
        "class Person:\n",
        "    # Class Variable\n",
        "    person = 'Person'\n",
        "\n",
        "    # The init method or constructor\n",
        "    def __init__(self, rambut, warna):\n",
        "        # Instance Variables\n",
        "        self.rambut = rambut\n",
        "        self.warna = warna\n",
        "\n",
        "# Objects\n",
        "Budi = Person(\"Ikal\", \"Hitam\")\n",
        "Michael = Person(\"Lurus\", \"Pirang\")\n",
        "\n",
        "# Output\n",
        "print('Budi details:')\n",
        "print('Rambut: ', Budi.rambut)\n",
        "print('Warna Rambut: ', Budi.warna)\n",
        "\n",
        "print('\\nMichael details:')\n",
        "print('Rambut: ', Michael.rambut)\n",
        "print('Warna Rambut: ', Michael.warna)\n"
      ]
    }
  ]
}